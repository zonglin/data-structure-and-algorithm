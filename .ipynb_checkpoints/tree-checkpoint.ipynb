{
 "cells": [
  {
   "cell_type": "code",
   "execution_count": 1,
   "metadata": {},
   "outputs": [],
   "source": [
    "#https://zhuanlan.zhihu.com/p/55577744\n",
    "#Binary Tree\n",
    "class Node(object):\n",
    "    def __init__(self,item):\n",
    "        self.item = item\n",
    "        self.left = None\n",
    "        self.right = None"
   ]
  },
  {
   "cell_type": "code",
   "execution_count": 2,
   "metadata": {},
   "outputs": [],
   "source": [
    "#binary tree stored in array\n",
    "class Tree(object):\n",
    "    def __init__(self):\n",
    "        self.root = Node('root')\n",
    "    def add(self, item):\n",
    "        node = Node(item)\n",
    "        if self.root is None:\n",
    "            self.root = node\n",
    "        else:\n",
    "            q = [self.root]\n",
    "            while True:\n",
    "                pop_node = q.pop(0)\n",
    "                if pop_node.left is None:\n",
    "                    pop_node.left = node\n",
    "                    return\n",
    "                elif pop_node.right is None:\n",
    "                    pop_node.right = node\n",
    "                    return\n",
    "                else:\n",
    "                    q.append(pop_node.left)\n",
    "                    q.append(pop_node.right)\n",
    "    def get_parent(self,item):\n",
    "        if self.root.item == item:\n",
    "            return None\n",
    "        tmp = [self.root]\n",
    "        while tmp:\n",
    "            pop_node = tmp.pop(0)\n",
    "            if pop_node.left and pop_node.left.item == item:\n",
    "                return pop_node\n",
    "            if pop_node.right and pop_node.right.item == item:\n",
    "                return pop_node\n",
    "            if pop_node.left:\n",
    "                tmp.append(pop_node.left)\n",
    "            if pop_node.right:\n",
    "                tmp.append(pop_node.left)\n",
    "        return None\n",
    "    \n",
    "    def delete(self,item):\n",
    "        '''\n",
    "        从二叉树中删除一个元素\n",
    "        先获取 待删除节点item的父节点\n",
    "        如果父节点为空，直接删除\n",
    "        如果父节点不为空，如果子节点为空，直接删除\n",
    "        如果父节点不为空，左子节点为空，父节点指向右子节点\n",
    "        如果父节点不为空，右子节点为空，父节点指向左子节点\n",
    "        如果父节点不为空，子节点不为空，父节点指向右子树中最左叶子节点\n",
    "        '''\n",
    "        if self.root is None:\n",
    "            return False\n",
    "        parent = self.get_parent(item)\n",
    "        if parent:\n",
    "            del_node = parent.left if parent.left.item == item else parent.right.item\n",
    "            if del_node.left is None:\n",
    "                if parent.left.item == item:\n",
    "                    parent.left = del_node.right\n",
    "                else:\n",
    "                    parent.right = del_node.right\n",
    "                del del_node\n",
    "                return True\n",
    "            \n",
    "            elif del_node.right is None:\n",
    "                if parent.left.item == item:\n",
    "                    parent.left = del_node.left\n",
    "                else:\n",
    "                    parent.right = del_node.left\n",
    "                del del_node\n",
    "                return True\n",
    "\n",
    "            else:\n",
    "                #左右子树都不为空\n",
    "                tmp_pre = del_node\n",
    "                tmp_next"
   ]
  },
  {
   "cell_type": "code",
   "execution_count": 5,
   "metadata": {},
   "outputs": [
    {
     "data": {
      "text/plain": [
       "False"
      ]
     },
     "execution_count": 5,
     "metadata": {},
     "output_type": "execute_result"
    }
   ],
   "source": [
    "tree=Tree()\n",
    "tree.root is None"
   ]
  },
  {
   "cell_type": "code",
   "execution_count": null,
   "metadata": {},
   "outputs": [],
   "source": []
  }
 ],
 "metadata": {
  "kernelspec": {
   "display_name": "jin(python3)",
   "language": "python",
   "name": "jin"
  },
  "language_info": {
   "codemirror_mode": {
    "name": "ipython",
    "version": 3
   },
   "file_extension": ".py",
   "mimetype": "text/x-python",
   "name": "python",
   "nbconvert_exporter": "python",
   "pygments_lexer": "ipython3",
   "version": "3.6.8"
  }
 },
 "nbformat": 4,
 "nbformat_minor": 2
}
