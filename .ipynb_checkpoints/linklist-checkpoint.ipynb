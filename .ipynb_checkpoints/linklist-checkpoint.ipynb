{
 "cells": [
  {
   "cell_type": "code",
   "execution_count": 9,
   "metadata": {},
   "outputs": [],
   "source": [
    "#node\n",
    "class Node(object):\n",
    "    def __init__(self,item):\n",
    "        self.item = item\n",
    "        self.next = None"
   ]
  },
  {
   "cell_type": "code",
   "execution_count": 22,
   "metadata": {},
   "outputs": [],
   "source": [
    "class SingleLinkList(object):\n",
    "    def __init__(self):\n",
    "        self._head = None\n",
    "    def is_empty(self):\n",
    "        return self._head is None\n",
    "    def length(self):\n",
    "        cur = self._head\n",
    "        count = 0\n",
    "        while cur is not None:\n",
    "            cur = cur.next\n",
    "            count = count +1\n",
    "        return count\n",
    "    def items(self):\n",
    "        cur = self._head\n",
    "        while cur is not None:\n",
    "            yield cur.item\n",
    "            cur = cur.next    \n",
    "    def add(self,item):\n",
    "        node = Node(item)\n",
    "        node.next = self._head\n",
    "        self._head = node        \n",
    "    def append(self,item):\n",
    "        node = Node(item)\n",
    "        cur = self._head\n",
    "        if cur is None:\n",
    "            self._head = node\n",
    "        else:\n",
    "            while cur.next != None:\n",
    "                cur = cur.next\n",
    "            cur.next = node            \n",
    "    def insert(self,index,item):          \n",
    "        node = Node(item)\n",
    "        if index<=0:\n",
    "            self.add(node)\n",
    "        if index >= self.length():\n",
    "            self.append(node)\n",
    "        else:\n",
    "            cur = self._head\n",
    "            for i in range(index-1):\n",
    "                cur = cur.next\n",
    "            node.next = cur.next\n",
    "            cur.next = node      \n",
    "    def find(self,item):\n",
    "        return item in self.items()\n",
    "    def remove(self,item):\n",
    "        cur = self._head\n",
    "        pre = None\n",
    "        while cur is not None:\n",
    "            if cur.item == item:\n",
    "                if not pre:\n",
    "                    self._head = cur.next\n",
    "                else:\n",
    "                    pre.next = cur.next\n",
    "                return True\n",
    "            else:\n",
    "                pre = cur\n",
    "                cur = cur.next\n",
    "                \n",
    "            \n",
    "        \n",
    "        \n",
    "        "
   ]
  },
  {
   "cell_type": "code",
   "execution_count": 23,
   "metadata": {},
   "outputs": [],
   "source": [
    "singlelinklist = SingleLinkList()\n",
    "singlelinklist.add(1)\n",
    "singlelinklist.add(3)\n",
    "singlelinklist.add(5)"
   ]
  },
  {
   "cell_type": "code",
   "execution_count": 24,
   "metadata": {},
   "outputs": [
    {
     "name": "stdout",
     "output_type": "stream",
     "text": [
      "5\n",
      "3\n",
      "1\n"
     ]
    }
   ],
   "source": [
    "for i in singlelinklist.items():\n",
    "    print(i)"
   ]
  },
  {
   "cell_type": "code",
   "execution_count": null,
   "metadata": {},
   "outputs": [],
   "source": []
  }
 ],
 "metadata": {
  "kernelspec": {
   "display_name": "jin(python3)",
   "language": "python",
   "name": "jin"
  },
  "language_info": {
   "codemirror_mode": {
    "name": "ipython",
    "version": 3
   },
   "file_extension": ".py",
   "mimetype": "text/x-python",
   "name": "python",
   "nbconvert_exporter": "python",
   "pygments_lexer": "ipython3",
   "version": "3.6.8"
  }
 },
 "nbformat": 4,
 "nbformat_minor": 2
}
