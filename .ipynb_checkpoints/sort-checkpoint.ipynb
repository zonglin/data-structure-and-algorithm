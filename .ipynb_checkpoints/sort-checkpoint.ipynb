{
 "cells": [
  {
   "cell_type": "code",
   "execution_count": 16,
   "metadata": {},
   "outputs": [],
   "source": [
    "# 1.bubble_sort\n",
    "def bubble_sort(a_list):\n",
    "    length = len(a_list)-1\n",
    "    while length:\n",
    "        for i in range(length):\n",
    "            if a_list[i]>a_list[i+1]:\n",
    "                temp = a_list[i]\n",
    "                a_list[i] = a_list[i+1]\n",
    "                a_list[i+1] = temp\n",
    "        length = length - 1\n",
    "    return a_list"
   ]
  },
  {
   "cell_type": "code",
   "execution_count": 17,
   "metadata": {},
   "outputs": [
    {
     "data": {
      "text/plain": [
       "[1, 2, 3, 4, 5]"
      ]
     },
     "execution_count": 17,
     "metadata": {},
     "output_type": "execute_result"
    }
   ],
   "source": [
    "bubble_sort([5,4,3,2,1])"
   ]
  },
  {
   "cell_type": "code",
   "execution_count": 14,
   "metadata": {},
   "outputs": [],
   "source": [
    "def short_bubble_sort(a_list):\n",
    "    length = len(a_list)-1\n",
    "    exchange = True\n",
    "    while length>0 and exchange:\n",
    "        exchange = False\n",
    "        for i in range(length):\n",
    "            if a_list[i]>a_list[i+1]:\n",
    "                exchange = True\n",
    "                temp = a_list[i]\n",
    "                a_list[i] = a_list[i+1]\n",
    "                a_list[i+1] = temp\n",
    "        length = length -1\n",
    "    return a_list"
   ]
  },
  {
   "cell_type": "code",
   "execution_count": 15,
   "metadata": {},
   "outputs": [
    {
     "data": {
      "text/plain": [
       "[1, 2, 3, 4, 5]"
      ]
     },
     "execution_count": 15,
     "metadata": {},
     "output_type": "execute_result"
    }
   ],
   "source": [
    "short_bubble_sort([5,4,3,2,1])"
   ]
  },
  {
   "cell_type": "code",
   "execution_count": null,
   "metadata": {},
   "outputs": [],
   "source": [
    "def insert_sort(list):\n",
    "    n = len(list)\n",
    "    for i in range(1,n):\n",
    "        if list[i]<list[i-1]:\n",
    "            temp = list[i]\n",
    "            index = i\n",
    "            for j in range(i-1, -1, -1):\n",
    "                if list[j]>temp:\n",
    "                    list[]\n",
    "                "
   ]
  },
  {
   "cell_type": "code",
   "execution_count": 32,
   "metadata": {},
   "outputs": [
    {
     "name": "stdout",
     "output_type": "stream",
     "text": [
      "8\n",
      "7\n",
      "6\n",
      "5\n",
      "4\n",
      "3\n",
      "2\n",
      "1\n",
      "0\n"
     ]
    }
   ],
   "source": [
    "for i in range(8,-1,-1):\n",
    "    print(i)"
   ]
  },
  {
   "cell_type": "code",
   "execution_count": null,
   "metadata": {},
   "outputs": [],
   "source": []
  },
  {
   "cell_type": "code",
   "execution_count": null,
   "metadata": {},
   "outputs": [],
   "source": []
  }
 ],
 "metadata": {
  "kernelspec": {
   "display_name": "jin(python3)",
   "language": "python",
   "name": "jin"
  },
  "language_info": {
   "codemirror_mode": {
    "name": "ipython",
    "version": 3
   },
   "file_extension": ".py",
   "mimetype": "text/x-python",
   "name": "python",
   "nbconvert_exporter": "python",
   "pygments_lexer": "ipython3",
   "version": "3.6.8"
  }
 },
 "nbformat": 4,
 "nbformat_minor": 2
}
